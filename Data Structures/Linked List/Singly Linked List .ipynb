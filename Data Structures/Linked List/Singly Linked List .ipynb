{
 "cells": [
  {
   "cell_type": "code",
   "execution_count": null,
   "id": "b800f10f",
   "metadata": {},
   "outputs": [],
   "source": [
    "# Here we are going to see about the singly linked list \n",
    "# In the singly linked list it contains the following elements.\n",
    "# Head \n",
    "# Data Value\n",
    "# Next Node Pointer with address"
   ]
  },
  {
   "cell_type": "code",
   "execution_count": null,
   "id": "e11ae756",
   "metadata": {},
   "outputs": [],
   "source": [
    "class Node:\n",
    "    def __init__(self, data = None , next = None):\n",
    "        self.data = data                 # Data of the Current Node.\n",
    "        self.next = next                 # next Node."
   ]
  },
  {
   "cell_type": "code",
   "execution_count": 20,
   "id": "a937814c",
   "metadata": {},
   "outputs": [],
   "source": [
    "class LinkedList:\n",
    "    def __init__(self):\n",
    "         self.head = None               # Head is initially assigned as none.\n",
    "    \n",
    "    def ins_at_begin (self, data):\n",
    "        node = Node(data, self.head)    # node is inserted at the begining with the data and head.\n",
    "        self.head = node                # head node is assigned with the data of the next node or current node.\n",
    "        \n",
    "    def printing(self):\n",
    "        if self.head is None:           # Checking the head is none and proceeding the following.\n",
    "            print(\"Linked list is initially Empty..\")\n",
    "            return                      \n",
    "        \n",
    "        itr = self.head                 # iterators = self.header node.\n",
    "        \n",
    "        ll = ''                         # ll = empty space for assigning the string into it.\n",
    "        while itr:                      # While iterators contains values proceed with the following.\n",
    "            ll += str(itr.data) + '-->' # feeding the data's that's to be printed.\n",
    "            itr = itr.next\n",
    "        \n",
    "        print(ll)\n",
    "\n",
    "    "
   ]
  },
  {
   "cell_type": "code",
   "execution_count": 19,
   "id": "77bbd39c",
   "metadata": {},
   "outputs": [
    {
     "name": "stdout",
     "output_type": "stream",
     "text": [
      "4-->3-->2-->1-->\n"
     ]
    }
   ],
   "source": [
    "if __name__ == '__main__':\n",
    "    llst = LinkedList()                # Calling the function LinkedList().\n",
    "    llst.ins_at_begin(1)               # Inserting the Values.\n",
    "    llst.ins_at_begin(2)\n",
    "    llst.ins_at_begin(3)\n",
    "    llst.ins_at_begin(4)\n",
    "    llst.printing()                    # Printing the Values. "
   ]
  },
  {
   "cell_type": "code",
   "execution_count": null,
   "id": "00006c2e",
   "metadata": {},
   "outputs": [],
   "source": []
  }
 ],
 "metadata": {
  "kernelspec": {
   "display_name": "Python 3 (ipykernel)",
   "language": "python",
   "name": "python3"
  },
  "language_info": {
   "codemirror_mode": {
    "name": "ipython",
    "version": 3
   },
   "file_extension": ".py",
   "mimetype": "text/x-python",
   "name": "python",
   "nbconvert_exporter": "python",
   "pygments_lexer": "ipython3",
   "version": "3.11.5"
  }
 },
 "nbformat": 4,
 "nbformat_minor": 5
}
