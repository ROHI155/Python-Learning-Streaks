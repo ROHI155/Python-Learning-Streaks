{
 "cells": [
  {
   "cell_type": "code",
   "execution_count": 3,
   "id": "3db39719",
   "metadata": {},
   "outputs": [
    {
     "name": "stdout",
     "output_type": "stream",
     "text": [
      "This Folder is Specifically created for the Linked List\n",
      "This prgram is to Test the Jupyter Notebook is whether working on my directory or not.\n"
     ]
    }
   ],
   "source": [
    "print(\"This Folder is Specifically created for the Linked List\")\n",
    "print(\"This prgram is to Test the Jupyter Notebook is whether working on my directory or not.\")"
   ]
  },
  {
   "cell_type": "code",
   "execution_count": null,
   "id": "356df73e",
   "metadata": {},
   "outputs": [],
   "source": [
    "# here are Some tips about the Jupyter Notebook \n",
    "'''\n",
    "Method 1: Change Directory When Starting JupyterLab\n",
    "\n",
    "Open Terminal or Command Prompt:\n",
    "\n",
    "Navigate to the folder where you want JupyterLab to open.\n",
    "\n",
    "Run:\n",
    "\n",
    "jupyter lab\n",
    "\n",
    "JupyterLab will start in the current directory.\n",
    "\n",
    "Alternatively, you can specify the directory directly:\n",
    "\n",
    "jupyter lab --notebook-dir=path/to/your/folder\n",
    "\n",
    "Option 1: Update jupyter_lab_config.py\n",
    "\n",
    "Locate the Configuration File: Run this command in the terminal to generate or locate the config file:\n",
    "\n",
    "jupyter lab --generate-config\n",
    "\n",
    "c.ServerApp.root_dir = 'path/to/your/folder'\n",
    "'''"
   ]
  }
 ],
 "metadata": {
  "kernelspec": {
   "display_name": "Python 3 (ipykernel)",
   "language": "python",
   "name": "python3"
  },
  "language_info": {
   "codemirror_mode": {
    "name": "ipython",
    "version": 3
   },
   "file_extension": ".py",
   "mimetype": "text/x-python",
   "name": "python",
   "nbconvert_exporter": "python",
   "pygments_lexer": "ipython3",
   "version": "3.11.5"
  }
 },
 "nbformat": 4,
 "nbformat_minor": 5
}
