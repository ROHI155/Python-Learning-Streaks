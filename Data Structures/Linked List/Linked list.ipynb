{
 "cells": [
  {
   "cell_type": "code",
   "execution_count": 3,
   "id": "3db39719",
   "metadata": {},
   "outputs": [
    {
     "name": "stdout",
     "output_type": "stream",
     "text": [
      "This Folder is Specifically created for the Linked List\n",
      "This prgram is to Test the Jupyter Notebook is whether working on my directory or not.\n"
     ]
    }
   ],
   "source": [
    "print(\"This Folder is Specifically created for the Linked List\")\n",
    "print(\"This prgram is to Test the Jupyter Notebook is whether working on my directory or not.\")"
   ]
  },
  {
   "cell_type": "code",
   "execution_count": null,
   "id": "356df73e",
   "metadata": {},
   "outputs": [],
   "source": []
  }
 ],
 "metadata": {
  "kernelspec": {
   "display_name": "Python 3 (ipykernel)",
   "language": "python",
   "name": "python3"
  },
  "language_info": {
   "codemirror_mode": {
    "name": "ipython",
    "version": 3
   },
   "file_extension": ".py",
   "mimetype": "text/x-python",
   "name": "python",
   "nbconvert_exporter": "python",
   "pygments_lexer": "ipython3",
   "version": "3.11.5"
  }
 },
 "nbformat": 4,
 "nbformat_minor": 5
}
