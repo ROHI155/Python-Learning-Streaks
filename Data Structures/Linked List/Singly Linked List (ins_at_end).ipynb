{
 "cells": [
  {
   "cell_type": "code",
   "execution_count": 1,
   "id": "1d39ad38",
   "metadata": {},
   "outputs": [],
   "source": [
    "# Here we are going to see about the singly linked list \n",
    "# In the singly linked list it contains the following elements.\n",
    "# Head \n",
    "# Data Value\n",
    "# Next Node Pointer with address"
   ]
  },
  {
   "cell_type": "code",
   "execution_count": 2,
   "id": "89fd13cc",
   "metadata": {},
   "outputs": [],
   "source": [
    "class Node:\n",
    "    def __init__(self, data = None , next = None):\n",
    "        self.data = data                 # Data of the Current Node.\n",
    "        self.next = next                 # next Node."
   ]
  },
  {
   "cell_type": "code",
   "execution_count": 3,
   "id": "1880bb2e",
   "metadata": {},
   "outputs": [],
   "source": [
    "class linkedList:\n",
    "    def __init__(self):\n",
    "         self.head = None               # Head is initially assigned as none.\n",
    "    def printing(self):\n",
    "        if self.head is None:           # Checking the head is none and proceeding the following.\n",
    "            print(\"Linked list is initially Empty..\")\n",
    "            return                      \n",
    "        \n",
    "        itr = self.head                 # iterators = self.header node.\n",
    "        \n",
    "        ll = ''                         # ll = empty space for assigning the string into it.\n",
    "        while itr:                      # While iterators contains values proceed with the following.\n",
    "            ll += str(itr.data) + '-->' # feeding the data's that's to be printed.\n",
    "            itr = itr.next\n",
    "        print(ll)\n",
    "    def ins_at_end(self,data):         # Here we are inserting the values in the end \n",
    "        if self.head is None:          # Checking whether the head is empty or not \n",
    "            self.head = Node(data, None)\n",
    "            return                     # Returning the func\n",
    "        \n",
    "        itr = self.head \n",
    "        while itr.next:                # While itr.next contains some values proceed with the following.\n",
    "            itr = itr.next \n",
    "        itr.next = Node(data, None)"
   ]
  },
  {
   "cell_type": "code",
   "execution_count": 4,
   "id": "ca172422",
   "metadata": {},
   "outputs": [
    {
     "name": "stdout",
     "output_type": "stream",
     "text": [
      "0-->-1-->\n"
     ]
    }
   ],
   "source": [
    "if __name__ == '__main__':\n",
    "    llst = linkedList()                # Calling the function LinkedList().\n",
    "    llst.ins_at_end(0)\n",
    "    llst.ins_at_end(-1)\n",
    "    llst.printing()                    # Printing the Values. "
   ]
  }
 ],
 "metadata": {
  "kernelspec": {
   "display_name": "Python 3 (ipykernel)",
   "language": "python",
   "name": "python3"
  },
  "language_info": {
   "codemirror_mode": {
    "name": "ipython",
    "version": 3
   },
   "file_extension": ".py",
   "mimetype": "text/x-python",
   "name": "python",
   "nbconvert_exporter": "python",
   "pygments_lexer": "ipython3",
   "version": "3.11.5"
  }
 },
 "nbformat": 4,
 "nbformat_minor": 5
}
