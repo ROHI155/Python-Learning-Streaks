{
 "cells": [
  {
   "cell_type": "code",
   "execution_count": null,
   "id": "b2cefb1a",
   "metadata": {},
   "outputs": [],
   "source": [
    "# Here we are going to see about the singly linked list \n",
    "# In the singly linked list it contains the following elements.\n",
    "# Head \n",
    "# Data Value\n",
    "# Next Node Pointer with address"
   ]
  },
  {
   "cell_type": "code",
   "execution_count": null,
   "id": "71d11256",
   "metadata": {},
   "outputs": [],
   "source": [
    "class Node:\n",
    "    def __init__(self, data = None , next = None):\n",
    "        self.data = data\n",
    "        self.next = next"
   ]
  },
  {
   "cell_type": "code",
   "execution_count": 14,
   "id": "66b70e19",
   "metadata": {},
   "outputs": [],
   "source": [
    "class LinkedList:\n",
    "    def __init__(self):\n",
    "         self.head = None \n",
    "    \n",
    "    def ins_at_begin (self, data):\n",
    "        node = Node(data, self.head)\n",
    "        self.head = node\n",
    "        \n",
    "    def printing(self):\n",
    "        if self.head is None:\n",
    "            print(\"Linked list is initially Empty..\")\n",
    "            return\n",
    "        \n",
    "        itr = self.head \n",
    "        \n",
    "        ll = ''\n",
    "        while itr:\n",
    "            ll += str(itr.data) + '-->'\n",
    "            itr = itr.next\n",
    "        \n",
    "        print(ll)\n"
   ]
  },
  {
   "cell_type": "code",
   "execution_count": 15,
   "id": "b5ec8b40",
   "metadata": {},
   "outputs": [
    {
     "ename": "NameError",
     "evalue": "name 'Node' is not defined",
     "output_type": "error",
     "traceback": [
      "\u001b[1;31m---------------------------------------------------------------------------\u001b[0m",
      "\u001b[1;31mNameError\u001b[0m                                 Traceback (most recent call last)",
      "Cell \u001b[1;32mIn[15], line 3\u001b[0m\n\u001b[0;32m      1\u001b[0m \u001b[38;5;28;01mif\u001b[39;00m \u001b[38;5;18m__name__\u001b[39m \u001b[38;5;241m==\u001b[39m \u001b[38;5;124m'\u001b[39m\u001b[38;5;124m__main__\u001b[39m\u001b[38;5;124m'\u001b[39m:\n\u001b[0;32m      2\u001b[0m     llst \u001b[38;5;241m=\u001b[39m LinkedList()\n\u001b[1;32m----> 3\u001b[0m     llst\u001b[38;5;241m.\u001b[39mins_at_begin(\u001b[38;5;241m1\u001b[39m)\n\u001b[0;32m      4\u001b[0m     llst\u001b[38;5;241m.\u001b[39mins_at_begin(\u001b[38;5;241m2\u001b[39m)\n\u001b[0;32m      5\u001b[0m     llst\u001b[38;5;241m.\u001b[39mins_at_begin(\u001b[38;5;241m3\u001b[39m)\n",
      "Cell \u001b[1;32mIn[14], line 6\u001b[0m, in \u001b[0;36mLinkedList.ins_at_begin\u001b[1;34m(self, data)\u001b[0m\n\u001b[0;32m      5\u001b[0m \u001b[38;5;28;01mdef\u001b[39;00m \u001b[38;5;21mins_at_begin\u001b[39m (\u001b[38;5;28mself\u001b[39m, data):\n\u001b[1;32m----> 6\u001b[0m     node \u001b[38;5;241m=\u001b[39m Node(data, \u001b[38;5;28mself\u001b[39m\u001b[38;5;241m.\u001b[39mhead)\n\u001b[0;32m      7\u001b[0m     \u001b[38;5;28mself\u001b[39m\u001b[38;5;241m.\u001b[39mhead \u001b[38;5;241m=\u001b[39m node\n",
      "\u001b[1;31mNameError\u001b[0m: name 'Node' is not defined"
     ]
    }
   ],
   "source": [
    "if __name__ == '__main__':\n",
    "    llst = LinkedList()\n",
    "    llst.ins_at_begin(1)\n",
    "    llst.ins_at_begin(2)\n",
    "    llst.ins_at_begin(3)\n",
    "    llst.ins_at_begin(4)\n",
    "    llst.print()\n",
    "    "
   ]
  }
 ],
 "metadata": {
  "kernelspec": {
   "display_name": "Python 3 (ipykernel)",
   "language": "python",
   "name": "python3"
  },
  "language_info": {
   "codemirror_mode": {
    "name": "ipython",
    "version": 3
   },
   "file_extension": ".py",
   "mimetype": "text/x-python",
   "name": "python",
   "nbconvert_exporter": "python",
   "pygments_lexer": "ipython3",
   "version": "3.11.5"
  }
 },
 "nbformat": 4,
 "nbformat_minor": 5
}
