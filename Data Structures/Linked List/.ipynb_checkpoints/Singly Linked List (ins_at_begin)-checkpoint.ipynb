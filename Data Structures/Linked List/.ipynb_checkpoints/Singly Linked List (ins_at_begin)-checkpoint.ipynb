{
 "cells": [
  {
   "cell_type": "code",
   "execution_count": 1,
   "id": "b800f10f",
   "metadata": {},
   "outputs": [],
   "source": [
    "# Here we are going to see about the singly linked list \n",
    "# In the singly linked list it contains the following elements.\n",
    "# Head \n",
    "# Data Value\n",
    "# Next Node Pointer with address"
   ]
  },
  {
   "cell_type": "code",
   "execution_count": 3,
   "id": "e11ae756",
   "metadata": {
    "collapsed": true
   },
   "outputs": [],
   "source": [
    "class Node:\n",
    "    def __init__(self, data = None , next = None):\n",
    "        self.data = data                 # Data of the Current Node.\n",
    "        self.next = next                 # next Node."
   ]
  },
  {
   "cell_type": "code",
   "execution_count": 14,
   "id": "a937814c",
   "metadata": {},
   "outputs": [],
   "source": [
    "class linkedList:\n",
    "    def __init__(self):\n",
    "         self.head = None               # Head is initially assigned as none.\n",
    "    \n",
    "    def ins_at_begin (self, data):\n",
    "        node = Node(data, self.head)    # node is inserted at the begining with the data and head.\n",
    "        self.head = node                # head node is assigned with the data of the next node or current node.\n",
    "        \n",
    "    def printing(self):\n",
    "        if self.head is None:           # Checking the head is none and proceeding the following.\n",
    "            print(\"Linked list is initially Empty..\")\n",
    "            return                      \n",
    "        \n",
    "        itr = self.head                 # iterators = self.header node.\n",
    "        \n",
    "        ll = ''                         # ll = empty space for assigning the string into it.\n",
    "        while itr:                      # While iterators contains values proceed with the following.\n",
    "            ll += str(itr.data) + '-->' # feeding the data's that's to be printed.\n",
    "            itr = itr.next\n",
    "        print(ll)\n",
    "    def ins_at_end(self,data):\n",
    "        if self.head is None:\n",
    "            self.head = Node(data, None)\n",
    "            return\n",
    "        \n",
    "        itr = self.head \n",
    "        while itr.next:\n",
    "            itr = itr.next \n",
    "        itr.next = Node(data, None)"
   ]
  },
  {
   "cell_type": "code",
   "execution_count": 2,
   "id": "77bbd39c",
   "metadata": {},
   "outputs": [
    {
     "ename": "NameError",
     "evalue": "name 'linkedList' is not defined",
     "output_type": "error",
     "traceback": [
      "\u001b[1;31m---------------------------------------------------------------------------\u001b[0m",
      "\u001b[1;31mNameError\u001b[0m                                 Traceback (most recent call last)",
      "Cell \u001b[1;32mIn[2], line 2\u001b[0m\n\u001b[0;32m      1\u001b[0m \u001b[38;5;28;01mif\u001b[39;00m \u001b[38;5;18m__name__\u001b[39m \u001b[38;5;241m==\u001b[39m \u001b[38;5;124m'\u001b[39m\u001b[38;5;124m__main__\u001b[39m\u001b[38;5;124m'\u001b[39m:\n\u001b[1;32m----> 2\u001b[0m     llst \u001b[38;5;241m=\u001b[39m linkedList()                \u001b[38;5;66;03m# Calling the function LinkedList().\u001b[39;00m\n\u001b[0;32m      3\u001b[0m     llst\u001b[38;5;241m.\u001b[39mins_at_begin(\u001b[38;5;241m1\u001b[39m)               \u001b[38;5;66;03m# Inserting the Values.\u001b[39;00m\n\u001b[0;32m      4\u001b[0m     llst\u001b[38;5;241m.\u001b[39mins_at_begin(\u001b[38;5;241m2\u001b[39m)\n",
      "\u001b[1;31mNameError\u001b[0m: name 'linkedList' is not defined"
     ]
    }
   ],
   "source": [
    "if __name__ == '__main__':\n",
    "    llst = linkedList()                # Calling the function LinkedList().\n",
    "    llst.ins_at_begin(1)               # Inserting the Values.\n",
    "    llst.ins_at_begin(2)\n",
    "    llst.ins_at_begin(3)\n",
    "    llst.ins_at_begin(4)\n",
    "    llst.ins_at_end(0)\n",
    "    llst.ins_at_end(-1)\n",
    "    llst.printing()                    # Printing the Values. "
   ]
  },
  {
   "cell_type": "code",
   "execution_count": null,
   "id": "74f9df2a",
   "metadata": {},
   "outputs": [],
   "source": []
  }
 ],
 "metadata": {
  "kernelspec": {
   "display_name": "Python 3 (ipykernel)",
   "language": "python",
   "name": "python3"
  },
  "language_info": {
   "codemirror_mode": {
    "name": "ipython",
    "version": 3
   },
   "file_extension": ".py",
   "mimetype": "text/x-python",
   "name": "python",
   "nbconvert_exporter": "python",
   "pygments_lexer": "ipython3",
   "version": "3.11.5"
  }
 },
 "nbformat": 4,
 "nbformat_minor": 5
}
